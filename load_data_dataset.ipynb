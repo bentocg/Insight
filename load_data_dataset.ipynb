{
 "cells": [
  {
   "cell_type": "markdown",
   "metadata": {},
   "source": [
    "Extract birding data from eBird API\n",
    "===="
   ]
  },
  {
   "cell_type": "markdown",
   "metadata": {},
   "source": [
    "## Setup"
   ]
  },
  {
   "cell_type": "code",
   "execution_count": 1,
   "metadata": {},
   "outputs": [],
   "source": [
    "# import packages\n",
    "import geopandas as gpd\n",
    "from shapely.geometry import Point\n",
    "from utils import read_ebird, process_ebird\n",
    "import pandas as pd\n",
    "import numpy as np\n",
    "from ebird.api import Client\n",
    "from functools import partial\n",
    "from multiprocessing import Pool\n",
    "from collections import defaultdict\n",
    "import datetime\n",
    "import time\n",
    "import os\n",
    "\n"
   ]
  },
  {
   "cell_type": "markdown",
   "metadata": {},
   "source": [
    "## Read entries from eBird database"
   ]
  },
  {
   "cell_type": "code",
   "execution_count": 15,
   "metadata": {},
   "outputs": [
    {
     "name": "stdout",
     "output_type": "stream",
     "text": [
      "usage: eBird database .txt file muncher [-h] [--input_txt INPUT_TXT]\n",
      "                                        [--period PERIOD] [--output OUTPUT]\n",
      "\n",
      "optional arguments:\n",
      "  -h, --help            show this help message and exit\n",
      "  --input_txt INPUT_TXT, -i INPUT_TXT\n",
      "                        path to eBird database file\n",
      "  --period PERIOD, -p PERIOD\n",
      "                        start year to end year separated by a dash\n",
      "  --output OUTPUT, -o OUTPUT\n",
      "                        path to output csv file\n",
      "Finished reading 68637867 lines in 00:42:53\n"
     ]
    }
   ],
   "source": [
    "# options for reading\n",
    "!python utils/read_ebird.py -h\n",
    "\n",
    "# read dataset\n",
    "!python utils/read_ebird.py -i Datasets/ebd_US_relDec-2019.txt -o obs_US_2018.csv -p 2018-2019"
   ]
  },
  {
   "cell_type": "markdown",
   "metadata": {},
   "source": [
    "## Condense observation data into user data"
   ]
  },
  {
   "cell_type": "code",
   "execution_count": 4,
   "metadata": {},
   "outputs": [
    {
     "name": "stdout",
     "output_type": "stream",
     "text": [
      "usage: Script to process eBird observations into user data [-h]\n",
      "                                                           [--input_csv INPUT_CSV]\n",
      "                                                           [--cores CORES]\n",
      "                                                           [--output OUTPUT]\n",
      "\n",
      "optional arguments:\n",
      "  -h, --help            show this help message and exit\n",
      "  --input_csv INPUT_CSV, -i INPUT_CSV\n",
      "                        path to observations .csv file\n",
      "  --cores CORES, -c CORES\n",
      "                        number of cores for parallel processing\n",
      "  --output OUTPUT, -o OUTPUT\n",
      "                        path to output csv file\n",
      "sys:1: DtypeWarning: Columns (2) have mixed types. Specify dtype option on import or set low_memory=False.\n",
      "/home/bento/anaconda3/envs/birding/lib/python3.7/site-packages/numpy/lib/nanfunctions.py:1116: RuntimeWarning: All-NaN slice encountered\n",
      "  overwrite_input=overwrite_input)\n",
      "/home/bento/anaconda3/envs/birding/lib/python3.7/site-packages/numpy/core/fromnumeric.py:3335: RuntimeWarning: Mean of empty slice.\n",
      "  out=out, **kwargs)\n",
      "/home/bento/anaconda3/envs/birding/lib/python3.7/site-packages/numpy/core/_methods.py:161: RuntimeWarning: invalid value encountered in double_scalars\n",
      "  ret = ret.dtype.type(ret / rcount)\n",
      "/home/bento/anaconda3/envs/birding/lib/python3.7/site-packages/numpy/lib/nanfunctions.py:1116: RuntimeWarning: All-NaN slice encountered\n",
      "  overwrite_input=overwrite_input)\n",
      "/home/bento/anaconda3/envs/birding/lib/python3.7/site-packages/numpy/lib/nanfunctions.py:1116: RuntimeWarning: All-NaN slice encountered\n",
      "  overwrite_input=overwrite_input)\n",
      "/home/bento/anaconda3/envs/birding/lib/python3.7/site-packages/numpy/core/fromnumeric.py:3335: RuntimeWarning: Mean of empty slice.\n",
      "  out=out, **kwargs)\n",
      "/home/bento/anaconda3/envs/birding/lib/python3.7/site-packages/numpy/core/_methods.py:161: RuntimeWarning: invalid value encountered in double_scalars\n",
      "  ret = ret.dtype.type(ret / rcount)\n",
      "/home/bento/anaconda3/envs/birding/lib/python3.7/site-packages/numpy/lib/nanfunctions.py:1116: RuntimeWarning: All-NaN slice encountered\n",
      "  overwrite_input=overwrite_input)\n",
      "/home/bento/anaconda3/envs/birding/lib/python3.7/site-packages/numpy/lib/nanfunctions.py:1116: RuntimeWarning: All-NaN slice encountered\n",
      "  overwrite_input=overwrite_input)\n",
      "/home/bento/anaconda3/envs/birding/lib/python3.7/site-packages/numpy/lib/nanfunctions.py:1116: RuntimeWarning: All-NaN slice encountered\n",
      "  overwrite_input=overwrite_input)\n",
      "/home/bento/anaconda3/envs/birding/lib/python3.7/site-packages/numpy/lib/nanfunctions.py:1116: RuntimeWarning: All-NaN slice encountered\n",
      "  overwrite_input=overwrite_input)\n",
      "Finished compiling 1000 observations into 17 users in  00:00:00\n"
     ]
    }
   ],
   "source": [
    "# options for processing\n",
    "!python utils/process_ebird.py -h\n",
    "\n",
    "# process dataset\n",
    "!python utils/process_ebird.py -i observation_data.csv -c 10 -o user_data.csv"
   ]
  },
  {
   "cell_type": "markdown",
   "metadata": {},
   "source": [
    "## Extract user information"
   ]
  },
  {
   "cell_type": "code",
   "execution_count": null,
   "metadata": {},
   "outputs": [],
   "source": [
    "#user_df = gpd.GeoDataFrame()\n",
    "breaks = []\n",
    "observers = list(database['OBSERVER ID'])\n",
    "prev = 0\n",
    "for idx in range(len(observers) - 1):\n",
    "    if observers[idx] != observers[idx + 1]:\n",
    "        breaks.append([prev, idx + 1])\n",
    "        prev = idx + 1\n",
    "\n",
    "tic = time.time()\n",
    "pool = Pool(CORES)\n",
    "chunks = (database.iloc[range(chunk_idx[0], chunk_idx[1])] for chunk_idx in breaks)\n",
    "\n",
    "out = pool.map(get_user_data, chunks)\n",
    "print(out)\n",
    "out = [ele for ele in out if type(ele) != bool]\n",
    "user_df = pd.concat(out)\n",
    "print(time.time() - tic)\n",
    "\n",
    "user_df = user_df.to_file('users_data.shp')"
   ]
  },
  {
   "cell_type": "code",
   "execution_count": null,
   "metadata": {},
   "outputs": [],
   "source": [
    "user_df = pd.concat(out)\n",
    "print(user_df.head())"
   ]
  },
  {
   "cell_type": "markdown",
   "metadata": {},
   "source": [
    "## Get distance between users"
   ]
  },
  {
   "cell_type": "code",
   "execution_count": null,
   "metadata": {},
   "outputs": [],
   "source": [
    "import seaborn as sns\n",
    "\n",
    "# select columns\n",
    "user_df = pd.read_csv('Datasets/user_data_US.csv', index_col=0)\n",
    "\n",
    "\n",
    "\n",
    "print(len(user_df))\n",
    "unused = ['sample_checklist', 'geometry', 'since', 'mean_interval']\n",
    "to_process = user_df.iloc[:, [idx for idx, ele in enumerate(user_df.columns) if ele not in unused]]\n",
    "print(to_process.columns)\n",
    "to_process = to_process.fillna(0)\n",
    "users = list(to_process.index)\n",
    "\n",
    "# # normalize columns\n",
    "# from sklearn import preprocessing\n",
    "# from sklearn.metrics.pairwise import cosine_similarity\n",
    "\n",
    "    \n",
    "# x = to_process.values #returns a numpy array\n",
    "# min_max_scaler = preprocessing.MinMaxScaler()\n",
    "# x_scaled = min_max_scaler.fit_transform(x)\n",
    "\n",
    "# from bokeh.transform import jitter, factor_cmap\n",
    "# from bokeh.plotting import figure, output_notebook, show, ColumnDataSource, output_file\n",
    "# from bokeh.models import Legend, Range1d, LabelSet, BoxAnnotation\n",
    "# from bokeh.io import export_png\n",
    "# from bokeh.layouts import column\n",
    "\n",
    "# # We import sklearn.\n",
    "# import sklearn\n",
    "# from sklearn.manifold import TSNE\n",
    "# from sklearn.decomposition import PCA\n",
    "# RS = 20150101\n",
    "\n",
    "# # take a random sample\n",
    "# plot_df = to_process.copy()\n",
    "# indices = np.random.choice(len(x_scaled), 5000)\n",
    "# plot_df = plot_df.iloc[indices]\n",
    "# x_scaled = x_scaled[indices, :]\n",
    "\n",
    "# users_proj = TSNE(random_state=RS, perplexity=10, n_iter=5000).fit_transform(x_scaled)\n",
    "# plot_df['x'], plot_df['y'] = users_proj[:, 0], users_proj[:, 1]\n",
    "\n",
    "\n",
    "# source = ColumnDataSource(plot_df)\n",
    "\n",
    "# TOOLTIPS = [\n",
    "#     (\"#species\", \"@n_species\"),\n",
    "#     (\"distance\", \"@median_distance\"),\n",
    "#     (\"percent_complete\", \"@percent_complete\"),\n",
    "#     (\"#checklists\", \"@n_checklists\"),\n",
    "#     (\"group size\", \"@mean_group_size\")\n",
    "# ]\n",
    "                    \n",
    "# plotting_comments = figure(title='Birders', tooltips=TOOLTIPS)\n",
    "\n",
    "# plotting_comments.circle('x', 'y', color = 'coral', size=6, alpha=0.2, source=source)\n",
    "\n",
    "# plotting_comments.toolbar.logo = None\n",
    "# plotting_comments.toolbar_location = None\n",
    "\n",
    "\n",
    "\n",
    "\n",
    "# output_file('all_comments_pds.html')\n",
    "# show(plotting_comments)\n",
    "\n"
   ]
  },
  {
   "cell_type": "code",
   "execution_count": null,
   "metadata": {},
   "outputs": [],
   "source": [
    "similarity = cosine_similarity(users_proj)\n",
    "#print(similarity)\n",
    "print(similarity[:,4999])\n",
    "\n",
    "matches = {}\n",
    "for i in range(len(similarity)):\n",
    "    max_sim = -1\n",
    "    idx = 99999\n",
    "    for j, ele in enumerate(similarity[i,:]):\n",
    "        if ele > max_sim:\n",
    "            max_sim = ele\n",
    "            idx = j\n",
    "    matches[i] = j\n",
    "\n",
    "print(matches)"
   ]
  },
  {
   "cell_type": "code",
   "execution_count": null,
   "metadata": {},
   "outputs": [],
   "source": [
    "# take a random sample\n",
    "plot_df = to_process.copy()\n",
    "\n",
    "users_proj = TSNE(random_state=RS, perplexity=10, n_iter=10000).fit_transform(x_scaled)\n",
    "#model = PCA(n_components=2)\n",
    "#users_proj = model.fit_transform(x_scaled)\n",
    "plot_df['x'], plot_df['y'] = users_proj[:, 0], users_proj[:, 1]\n",
    "\n",
    "\n",
    "source = ColumnDataSource(plot_df)\n",
    "\n",
    "TOOLTIPS = [\n",
    "    (\"#species\", \"@n_species\"),\n",
    "    (\"distance\", \"@median_distance\"),\n",
    "    (\"percent_complete\", \"@percent_complete\"),\n",
    "    (\"#checklists\", \"@n_checklists\"),\n",
    "    (\"group size\", \"@mean_group_size\")\n",
    "]\n",
    "                    \n",
    "plotting_comments = figure(title='Birders', tooltips=TOOLTIPS)\n",
    "\n",
    "plotting_comments.circle('x', 'y', color = 'coral', size=6, alpha=0.2, source=source)\n",
    "\n",
    "plotting_comments.toolbar.logo = None\n",
    "plotting_comments.toolbar_location = None\n",
    "\n",
    "\n",
    "\n",
    "\n",
    "output_file('all_comments_pds.html')\n",
    "show(plotting_comments)"
   ]
  },
  {
   "cell_type": "code",
   "execution_count": null,
   "metadata": {},
   "outputs": [],
   "source": [
    "user_df.head()"
   ]
  },
  {
   "cell_type": "code",
   "execution_count": null,
   "metadata": {},
   "outputs": [],
   "source": [
    "a = user_df.iloc[0]\n",
    "print(a.name)"
   ]
  },
  {
   "cell_type": "code",
   "execution_count": null,
   "metadata": {},
   "outputs": [],
   "source": []
  },
  {
   "cell_type": "code",
   "execution_count": null,
   "metadata": {},
   "outputs": [],
   "source": []
  },
  {
   "cell_type": "code",
   "execution_count": null,
   "metadata": {},
   "outputs": [],
   "source": []
  }
 ],
 "metadata": {
  "kernelspec": {
   "display_name": "Python [conda env:birding]",
   "language": "python",
   "name": "conda-env-birding-py"
  },
  "language_info": {
   "codemirror_mode": {
    "name": "ipython",
    "version": 3
   },
   "file_extension": ".py",
   "mimetype": "text/x-python",
   "name": "python",
   "nbconvert_exporter": "python",
   "pygments_lexer": "ipython3",
   "version": "3.7.6"
  }
 },
 "nbformat": 4,
 "nbformat_minor": 2
}
